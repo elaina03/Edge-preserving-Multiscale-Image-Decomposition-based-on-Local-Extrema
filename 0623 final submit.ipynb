{
 "cells": [
  {
   "cell_type": "code",
   "execution_count": 1,
   "metadata": {},
   "outputs": [],
   "source": [
    "import numpy as np\n",
    "from scipy.sparse import csc_matrix\n",
    "from scipy.sparse.linalg import splu\n",
    "import cv2\n",
    "import sys"
   ]
  },
  {
   "cell_type": "code",
   "execution_count": 2,
   "metadata": {},
   "outputs": [],
   "source": [
    "def getColorExact(localExtrema, ntscIm):\n",
    "    [n,m,d] = ntscIm.shape\n",
    "    imgSize = n*m\n",
    "    nI = np.zeros(ntscIm.shape, dtype=ntscIm.dtype)\n",
    "    nI[...,0] = ntscIm[...,0]\n",
    "    indsM = np.arange(imgSize).reshape(n, m)\n",
    "\n",
    "    wd = 1\n",
    "    length = 0\n",
    "    consts_len = 0\n",
    "    col_inds = np.zeros(imgSize*(2*wd+1)**2, dtype=int)\n",
    "    row_inds = np.zeros(imgSize*(2*wd+1)**2, dtype=int)\n",
    "    vals = np.zeros(imgSize*(2*wd+1)**2)\n",
    "    gvals = np.zeros((2*wd+1)**2)\n",
    "\n",
    "    for i in range(n):\n",
    "        for j in range(m):\n",
    "            if not localExtrema[i,j]:\n",
    "                tlen = 0\n",
    "                for ii in range(max(0,i-wd),min(i+wd+1,n)):\n",
    "                    for jj in range(max(0,j-wd),min(j+wd+1,m)):\n",
    "                        if(ii != i) or (jj != j):\n",
    "                            row_inds[length] = consts_len\n",
    "                            col_inds[length] = indsM[ii,jj]\n",
    "                            gvals[tlen] = ntscIm[ii,jj,0]\n",
    "                            length  = length +1\n",
    "                            tlen = tlen+1\n",
    "                t_val = ntscIm[i,j,0] # center pixel Y value\n",
    "                gvals[tlen] = t_val\n",
    "                c_var = np.mean((gvals[:tlen+1] - np.mean(gvals[:tlen+1]) )**2)\n",
    "                csig=c_var*0.6\n",
    "                mgv = min((gvals[:tlen]-t_val)**2)\n",
    "                if csig < (-mgv/np.log(0.01)):\n",
    "                    csig = -mgv/np.log(0.01)\n",
    "                if csig < 0.000002:\n",
    "                    csig = 0.000002\n",
    "                gvals[:tlen] = np.exp(-(gvals[:tlen]-t_val)**2/csig)\n",
    "                gvals[:tlen] = gvals[:tlen]/sum(gvals[:tlen])\n",
    "                vals[length-tlen:length] = -gvals[:tlen]\n",
    "\n",
    "            row_inds[length] = consts_len\n",
    "            col_inds[length] = indsM[i,j]\n",
    "            vals[length]=1\n",
    "            length = length+1    \n",
    "            consts_len = consts_len+1\n",
    "\n",
    "    vals = vals[:length]\n",
    "    col_inds = col_inds[:length]\n",
    "    row_inds = row_inds[:length]\n",
    "\n",
    "    A_csc = csc_matrix((vals, (row_inds, col_inds)), shape=(consts_len, imgSize))\n",
    "    LU = splu(A_csc)\n",
    "    b = np.zeros(A_csc.shape[0],dtype=ntscIm.dtype )\n",
    "    for dim in range(1,d):\n",
    "        curIm = ntscIm[:,:,dim]\n",
    "        b[indsM[localExtrema != 0]] = curIm[localExtrema]\n",
    "        new_vals = LU.solve(b)\n",
    "        nI[...,dim] = new_vals.reshape((n,m))\n",
    "        \n",
    "    return nI"
   ]
  },
  {
   "cell_type": "code",
   "execution_count": 3,
   "metadata": {},
   "outputs": [],
   "source": [
    "def EdgePreservingSmooth(I,k=3):\n",
    "    \"\"\"\n",
    "    Implement \"Edge-preserving Multiscale Image Decomposition based on Local Extrema\"\n",
    "\n",
    "    Parameters\n",
    "    -----------\n",
    "    I: input image( BGR image or grayscale image )\n",
    "    k: kernel size, default = 3\n",
    "\n",
    "    Returns\n",
    "    -----------\n",
    "    M: smoothed image( BGR image or grayscale image )\n",
    "    localMax: local maxima extrema( boolean matrix )\n",
    "    localMin: local minima extrema( boolean matrix )\n",
    "    MaxEnvelope: extremal envelopes of maxima extrema( Y+ extremal envelopes at each BGR channel )\n",
    "    MinEnvelope: extermal envelope of minima extrema( Y+ extremal envelopes at each BGR channel )\n",
    "\n",
    "    \"\"\"\n",
    "\n",
    "    # wd: half width of kernel size\n",
    "    wd = k//2\n",
    "\n",
    "    if I.ndim == 3:\n",
    "        channel = I.shape[2]\n",
    "        YUV = cv2.cvtColor(I,cv2.COLOR_BGR2YUV)\n",
    "        Y = np.double(YUV[:,:,0])/255\n",
    "        image = np.double(I)/255\n",
    "        #cv2.imshow(\"Y\",Y)\n",
    "        #cv2.waitKey(0)\n",
    "        #cv2.destroyAllWindows()\n",
    "\n",
    "    else:\n",
    "        channel = 1\n",
    "        Y = np.double(I)/255\n",
    "    print(\"Identifcation of local minima and local maxima of I\")\n",
    "    height,width = Y.shape\n",
    "    localMax = np.zeros( Y.shape, dtype=bool)\n",
    "    localMin = np.zeros( Y.shape, dtype=bool)\n",
    "    for i in range(height):\n",
    "        for j in range(width):\n",
    "            center = Y[i,j]\n",
    "\n",
    "            ii_start = max(0,i-wd)\n",
    "            ii_end = min(i+wd+1,height)\n",
    "            jj_start = max(0,j-wd)\n",
    "            jj_end = min(j+wd+1,width)\n",
    "            cover = Y[ii_start:ii_end,jj_start:jj_end]\n",
    "\n",
    "            maxcount = np.sum(cover > center)\n",
    "            mincount = np.sum(center > cover)\n",
    "            if maxcount <= k-1:\n",
    "                localMax[i,j] = True\n",
    "            if mincount <= k-1:\n",
    "                localMin[i,j] = True\n",
    "\n",
    "    print(\"Interpolation of the local minima and maxima to compute minimal and maximal extremal envelopes respectively\")\n",
    "    Y_BGR = np.zeros((height,width,4))\n",
    "    Y_BGR[...,0] = Y;\n",
    "    for i in range(channel):\n",
    "        Y_BGR[...,i+1] = image[...,i]\n",
    "\n",
    "    MaxEnvelope = getColorExact(localMax, Y_BGR)\n",
    "    MinEnvelope = getColorExact(localMin, Y_BGR)\n",
    "\n",
    "    print(\"Computation of the smoothed mean M as the average of the extremal envelopes\")\n",
    "    M = (MaxEnvelope[:,:,1:(channel+1)] + MinEnvelope[:,:,1:(channel+1)])/2;\n",
    "    M = (M*255).astype(np.uint8)\n",
    "    #cv2.imshow(\"M\",M)\n",
    "    #cv2.waitKey(0)\n",
    "    #cv2.destroyAllWindows()\n",
    "    return M, localMax, localMin, MaxEnvelope, MinEnvelope"
   ]
  },
  {
   "cell_type": "code",
   "execution_count": 4,
   "metadata": {},
   "outputs": [],
   "source": [
    "def normalize(img):\n",
    "    '''\n",
    "    img: float image\n",
    "    result: 0~255 np.uint8\n",
    "    '''\n",
    "    array_max = np.max(img)\n",
    "    array_min = np.min(img)\n",
    "    array_range = array_max-array_min\n",
    "    result = img.copy()\n",
    "    result = ((result-array_min)/array_range)*255\n",
    "    return result.astype(np.uint8)"
   ]
  },
  {
   "cell_type": "code",
   "execution_count": null,
   "metadata": {},
   "outputs": [],
   "source": [
    "#I1 = cv2.imread('Original.jpg')\n",
    "#M1, localmax, localmin, maxenvelope, minenvelope = EdgePreservingSmooth(I1)"
   ]
  },
  {
   "cell_type": "code",
   "execution_count": null,
   "metadata": {},
   "outputs": [],
   "source": [
    "if __name__ == '__main__':\n",
    "\n",
    "    if len(sys.argv) < 4:\n",
    "        print('Usage:', sys.argv[0], '<ImagePath>', '<KernelSize>', '<Iteration>')\n",
    "        sys.exit(1)\n",
    "\n",
    "    imagepath = sys.argv[1]\n",
    "    kernelsize = int(sys.argv[2])\n",
    "    iteration = int(sys.argv[3])\n",
    "\n",
    "    I = cv2.imread(imagepath)\n",
    "    M= I.copy()\n",
    "    for i in range(iteration):\n",
    "        print('Iteration: ', str(i+1))\n",
    "        M,localmax, localmin, maxenvelope, minenvelope = EdgePreservingSmooth(M,kernelsize)\n",
    "        kernelsize += 4\n",
    "        print('')\n",
    "\n",
    "    I_YUV = cv2.cvtColor(I,cv2.COLOR_BGR2YUV)\n",
    "    M_YUV = cv2.cvtColor(M,cv2.COLOR_BGR2YUV)\n",
    "    D = I_YUV[:,:,0]-M_YUV[:,:,0]\n",
    "\n",
    "    # Make the grey scale image have three channels\n",
    "    grey_3_channel = cv2.cvtColor(D, cv2.COLOR_GRAY2BGR)\n",
    "    numpy_horizontal = np.hstack(( I, M, grey_3_channel))\n",
    "    cv2.imshow('Edge-preserving Smooth Result', numpy_horizontal)\n",
    "    cv2.waitKey()"
   ]
  },
  {
   "cell_type": "markdown",
   "metadata": {},
   "source": [
    "# Resize images"
   ]
  },
  {
   "cell_type": "code",
   "execution_count": 15,
   "metadata": {},
   "outputs": [
    {
     "name": "stdout",
     "output_type": "stream",
     "text": [
      "(460, 307, 3)\n",
      "(368, 246, 3)\n"
     ]
    }
   ],
   "source": [
    "\"\"\"\n",
    "pascale.jpg --- enhancement\n",
    "stacey.jpg --- noise\n",
    "jason.jpg --- noise\n",
    "michael.jpg --- detail 3 iteration\n",
    "ricardo.jpg --- detail 3 iteration\n",
    "daniel.jpg --- enhancement\n",
    "\"\"\"\n",
    "imagepath = \"daniel.jpg\"\n",
    "img = cv2.imread(imagepath)\n",
    "#cv2.imshow('Image', img)\n",
    "#cv2.waitKey()\n",
    "print(img.shape)\n",
    "res = cv2.resize(img,(0,0),fx=0.8,fy=0.8, interpolation = cv2.INTER_AREA)\n",
    "print(res.shape)\n",
    "cv2.imshow('Resized Image', res)\n",
    "cv2.waitKey(0)\n",
    "cv2.destroyAllWindows()"
   ]
  },
  {
   "cell_type": "code",
   "execution_count": 16,
   "metadata": {},
   "outputs": [
    {
     "data": {
      "text/plain": [
       "True"
      ]
     },
     "execution_count": 16,
     "metadata": {},
     "output_type": "execute_result"
    }
   ],
   "source": [
    "cv2.imwrite(\"sample1.jpg\",res)"
   ]
  },
  {
   "cell_type": "markdown",
   "metadata": {},
   "source": [
    "# add noise"
   ]
  },
  {
   "cell_type": "code",
   "execution_count": 5,
   "metadata": {},
   "outputs": [],
   "source": [
    "def add_gaussian_noise(image, sigma):\n",
    "    '''Add Gaussian noise to an image.\n",
    "       image : gray level image, pixel intensity : 0 ~255\n",
    "       simga : float, standard deviation, controls level of noise \n",
    "       mu(mean) = 0.0 , float\n",
    "    '''\n",
    "    mu = 0.0 \n",
    "    # Draw random samples from a normal (Gaussian) distribution\n",
    "    noise = np.random.normal(mu, sigma, (image.shape))\n",
    "    # generate noisy image\n",
    "    noise_image = image + noise\n",
    "    # clip the values to the interval 0 ~ 255\n",
    "    noise_image = np.clip( noise_image, 0, 255)\n",
    "    # convert 'float' to 'uint8'\n",
    "    noise_image = noise_image.astype('uint8')\n",
    "    return noise_image"
   ]
  },
  {
   "cell_type": "code",
   "execution_count": 6,
   "metadata": {},
   "outputs": [],
   "source": [
    "def add_salt_and_pepper(image, threshold):\n",
    "    '''Add \" Salt & Pepper \" noise to an image.\n",
    "       image : gray-level image, pixel intensity : 0 ~ 255\n",
    "       threshold : probability that controls level of noise\n",
    "    '''\n",
    "    # np.random.rand : create random values in a given shape\n",
    "    # random samples from uniform distribution over [0,1)\n",
    "    # rnd : ndarray, random values\n",
    "    rnd = np.random.rand(image.shape[0], image.shape[1], image.shape[2])\n",
    "    noise_image = image.copy()\n",
    "    noise_image[ rnd < threshold] = 0\n",
    "    noise_image[ rnd > (1- threshold)] = 255\n",
    "    return noise_image"
   ]
  },
  {
   "cell_type": "code",
   "execution_count": 126,
   "metadata": {},
   "outputs": [],
   "source": [
    "# add gaussian noise to an image with simga(standard deviation) = 10\n",
    "imagepath = \"sample2.jpg\"\n",
    "img = cv2.imread(imagepath)\n",
    "noise_img = add_gaussian_noise(img, 10)"
   ]
  },
  {
   "cell_type": "code",
   "execution_count": 127,
   "metadata": {},
   "outputs": [],
   "source": [
    "noise_img2 = add_gaussian_noise(noise_img, 20)"
   ]
  },
  {
   "cell_type": "code",
   "execution_count": 128,
   "metadata": {},
   "outputs": [],
   "source": [
    "cv2.imshow('Noise Image', noise_img2)\n",
    "cv2.waitKey(0)\n",
    "cv2.destroyAllWindows()"
   ]
  },
  {
   "cell_type": "code",
   "execution_count": 129,
   "metadata": {},
   "outputs": [
    {
     "data": {
      "text/plain": [
       "True"
      ]
     },
     "execution_count": 129,
     "metadata": {},
     "output_type": "execute_result"
    }
   ],
   "source": [
    "cv2.imwrite('smaple2_gauss10_20.jpg',noise_img2)"
   ]
  },
  {
   "cell_type": "code",
   "execution_count": 134,
   "metadata": {},
   "outputs": [],
   "source": [
    "# add salt-and-pepper noise to an image with threshold = 0.01\n",
    "imagepath = \"sample3.jpg\"\n",
    "img = cv2.imread(imagepath)\n",
    "noise_img = add_salt_and_pepper(img, 0.01)"
   ]
  },
  {
   "cell_type": "code",
   "execution_count": 135,
   "metadata": {},
   "outputs": [],
   "source": [
    "noise_img2 = add_salt_and_pepper(noise_img , 0.03)"
   ]
  },
  {
   "cell_type": "code",
   "execution_count": 136,
   "metadata": {},
   "outputs": [],
   "source": [
    "cv2.imshow('Noise Image', noise_img2)\n",
    "cv2.waitKey(0)\n",
    "cv2.destroyAllWindows()"
   ]
  },
  {
   "cell_type": "code",
   "execution_count": 137,
   "metadata": {},
   "outputs": [
    {
     "data": {
      "text/plain": [
       "True"
      ]
     },
     "execution_count": 137,
     "metadata": {},
     "output_type": "execute_result"
    }
   ],
   "source": [
    "cv2.imwrite('smaple3_sp01_03.jpg',noise_img2)"
   ]
  },
  {
   "cell_type": "markdown",
   "metadata": {},
   "source": [
    "# image enhancement"
   ]
  },
  {
   "cell_type": "code",
   "execution_count": 10,
   "metadata": {},
   "outputs": [],
   "source": [
    "def modified_unshark_masking(img, smooth_img,c):\n",
    "    ''' \n",
    "    img : gray level image\n",
    "    c: constant, 3/5(0.6) ~ 5/6(0.833)\n",
    "    img_avg : image after using 3x3 average filter \n",
    "    if ( c < 3/5 or c > 5/6 ):\n",
    "        print('Use constant c between 3/5 and 5/6')\n",
    "        return -1\n",
    "        \n",
    "    '''\n",
    "    #output_image = (c/(2*c-1)) * img - ((1-c)/(2*c-1)) * smooth_img\n",
    "    output_image = c* img - (1-c) * smooth_img\n",
    "    print(output_image.dtype)\n",
    "    output_image[ output_image < 0] = 0\n",
    "    output_image[ output_image > 255 ] = 255\n",
    "    return  output_image.astype(np.uint8)"
   ]
  },
  {
   "cell_type": "code",
   "execution_count": 15,
   "metadata": {},
   "outputs": [
    {
     "name": "stdout",
     "output_type": "stream",
     "text": [
      "Iteration:  1\n",
      "Identifcation of local minima and local maxima of I\n",
      "Interpolation of the local minima and maxima to compute minimal and maximal extremal envelopes respectively\n",
      "Computation of the smoothed mean M as the average of the extremal envelopes\n",
      "\n"
     ]
    }
   ],
   "source": [
    "\"\"\"\n",
    "pascale.jpg --- enhancement\n",
    "stacey.jpg --- noise\n",
    "jason.jpg --- noise\n",
    "michael.jpg --- detail 3 iteration\n",
    "ricardo.jpg --- detail 3 iteration\n",
    "daniel.jpg --- enhancement\n",
    "\"\"\"\n",
    "\n",
    "imagepath =\"sample6.jpg\"\n",
    "kernelsize = 3\n",
    "iteration =1\n",
    "\n",
    "I = cv2.imread(imagepath)\n",
    "M= I.copy()\n",
    "for i in range(iteration):\n",
    "    print('Iteration: ', str(i+1))\n",
    "    M,localmax, localmin, maxenvelope, minenvelope = EdgePreservingSmooth(M,kernelsize)\n",
    "    kernelsize += 4\n",
    "    print('')\n",
    "\n",
    "I_YUV = cv2.cvtColor(I,cv2.COLOR_BGR2YUV)\n",
    "M_YUV = cv2.cvtColor(M,cv2.COLOR_BGR2YUV)\n",
    "D = I_YUV[:,:,0]-M_YUV[:,:,0]\n",
    "\n",
    "# Make the grey scale image have three channels\n",
    "grey_3_channel = cv2.cvtColor(D, cv2.COLOR_GRAY2BGR)\n",
    "numpy_horizontal = np.hstack(( I, M, grey_3_channel))\n",
    "cv2.imshow('Edge-preserving Smooth Result', numpy_horizontal)\n",
    "cv2.waitKey()\n",
    "cv2.destroyAllWindows()"
   ]
  },
  {
   "cell_type": "code",
   "execution_count": 16,
   "metadata": {},
   "outputs": [
    {
     "data": {
      "text/plain": [
       "True"
      ]
     },
     "execution_count": 16,
     "metadata": {},
     "output_type": "execute_result"
    }
   ],
   "source": [
    "cv2.imwrite(\"sample6_smooth.jpg\",numpy_horizontal)"
   ]
  },
  {
   "cell_type": "code",
   "execution_count": 21,
   "metadata": {},
   "outputs": [
    {
     "name": "stdout",
     "output_type": "stream",
     "text": [
      "float64\n",
      "float64\n"
     ]
    }
   ],
   "source": [
    "enhance_img1 = modified_unshark_masking(I, M,0.9)\n",
    "enhance_img2 = modified_unshark_masking(I, M,1.1)\n",
    "numpy_horizontal = np.hstack(( I,M,enhance_img1, enhance_img2))\n",
    "cv2.imshow('Enhancement', numpy_horizontal)\n",
    "cv2.waitKey()\n",
    "cv2.destroyAllWindows()"
   ]
  },
  {
   "cell_type": "code",
   "execution_count": 22,
   "metadata": {},
   "outputs": [
    {
     "data": {
      "text/plain": [
       "True"
      ]
     },
     "execution_count": 22,
     "metadata": {},
     "output_type": "execute_result"
    }
   ],
   "source": [
    "cv2.imwrite(\"sample6_enhancement09_11.jpg\", numpy_horizontal)"
   ]
  },
  {
   "cell_type": "markdown",
   "metadata": {},
   "source": [
    "# remove noise with 2 iterations"
   ]
  },
  {
   "cell_type": "code",
   "execution_count": 32,
   "metadata": {},
   "outputs": [
    {
     "name": "stdout",
     "output_type": "stream",
     "text": [
      "Iteration:  1\n",
      "Identifcation of local minima and local maxima of I\n",
      "Interpolation of the local minima and maxima to compute minimal and maximal extremal envelopes respectively\n",
      "Computation of the smoothed mean M as the average of the extremal envelopes\n",
      "\n",
      "Iteration:  2\n",
      "Identifcation of local minima and local maxima of I\n",
      "Interpolation of the local minima and maxima to compute minimal and maximal extremal envelopes respectively\n",
      "Computation of the smoothed mean M as the average of the extremal envelopes\n",
      "\n"
     ]
    }
   ],
   "source": [
    "\"\"\"\n",
    "pascale.jpg --- enhancement\n",
    "stacey.jpg --- noise\n",
    "jason.jpg --- noise\n",
    "michael.jpg --- detail 3 iteration\n",
    "ricardo.jpg --- detail 3 iteration\n",
    "daniel.jpg --- enhancement\n",
    "\"\"\"\n",
    "\"\"\"\n",
    "smaple2_gauss10_20.jpg\n",
    "smaple2_sp01_03.jpg\n",
    "smaple3_gauss10_20.jpg\n",
    "smaple3_sp01_03.jpg\n",
    "\"\"\"\n",
    "\n",
    "imagepath =\"smaple3_sp01_03.jpg\"\n",
    "kernelsize = 3\n",
    "iteration =2\n",
    "\n",
    "Mlist = []\n",
    "\n",
    "I = cv2.imread(imagepath)\n",
    "M= I.copy()\n",
    "for i in range(iteration):\n",
    "    print('Iteration: ', str(i+1))\n",
    "    M,localmax, localmin, maxenvelope, minenvelope = EdgePreservingSmooth(M,kernelsize)\n",
    "    Mlist.append(M)\n",
    "    kernelsize += 4\n",
    "    print('')\n",
    "\n",
    "I_YUV = cv2.cvtColor(I,cv2.COLOR_BGR2YUV)\n",
    "M_YUV = cv2.cvtColor(M,cv2.COLOR_BGR2YUV)\n",
    "D = I_YUV[:,:,0]-M_YUV[:,:,0]\n",
    "\n",
    "# Make the grey scale image have three channels\n",
    "grey_3_channel = cv2.cvtColor(D, cv2.COLOR_GRAY2BGR)\n",
    "numpy_horizontal = np.hstack(( I, M, grey_3_channel))\n",
    "cv2.imshow('Edge-preserving Smooth Result', numpy_horizontal)\n",
    "cv2.waitKey()\n",
    "cv2.destroyAllWindows()"
   ]
  },
  {
   "cell_type": "code",
   "execution_count": 33,
   "metadata": {},
   "outputs": [],
   "source": [
    "# (M*255).astype(np.uint8)\n",
    "# normalize(Mlist[0]) normalize(Mlist[1])\n",
    "numpy_horizontal = np.hstack(( I,Mlist[0], Mlist[1]))\n",
    "cv2.imshow('Noise Removal', numpy_horizontal)\n",
    "cv2.waitKey()\n",
    "cv2.destroyAllWindows()"
   ]
  },
  {
   "cell_type": "code",
   "execution_count": 34,
   "metadata": {},
   "outputs": [
    {
     "data": {
      "text/plain": [
       "True"
      ]
     },
     "execution_count": 34,
     "metadata": {},
     "output_type": "execute_result"
    }
   ],
   "source": [
    "cv2.imwrite(\"sample3_sp_remove.jpg\", numpy_horizontal)"
   ]
  },
  {
   "cell_type": "markdown",
   "metadata": {},
   "source": [
    "# 3 iterations with details"
   ]
  },
  {
   "cell_type": "code",
   "execution_count": 7,
   "metadata": {},
   "outputs": [
    {
     "name": "stdout",
     "output_type": "stream",
     "text": [
      "Iteration:  1\n",
      "Identifcation of local minima and local maxima of I\n",
      "Interpolation of the local minima and maxima to compute minimal and maximal extremal envelopes respectively\n",
      "Computation of the smoothed mean M as the average of the extremal envelopes\n",
      "\n",
      "Iteration:  2\n",
      "Identifcation of local minima and local maxima of I\n",
      "Interpolation of the local minima and maxima to compute minimal and maximal extremal envelopes respectively\n",
      "Computation of the smoothed mean M as the average of the extremal envelopes\n",
      "\n",
      "Iteration:  3\n",
      "Identifcation of local minima and local maxima of I\n",
      "Interpolation of the local minima and maxima to compute minimal and maximal extremal envelopes respectively\n",
      "Computation of the smoothed mean M as the average of the extremal envelopes\n",
      "\n"
     ]
    }
   ],
   "source": [
    "\"\"\"\n",
    "pascale.jpg --- enhancement\n",
    "stacey.jpg --- noise\n",
    "jason.jpg --- noise\n",
    "michael.jpg --- detail 3 iteration\n",
    "ricardo.jpg --- detail 3 iteration\n",
    "daniel.jpg --- enhancement\n",
    "\"\"\"\n",
    "\n",
    "\n",
    "imagepath =\"sample5.jpg\"\n",
    "kernelsize = 3\n",
    "iteration =3\n",
    "\n",
    "Mlist = []\n",
    "Dlist = []\n",
    "\n",
    "I = cv2.imread(imagepath)\n",
    "M= I.copy()\n",
    "for i in range(iteration):\n",
    "    print('Iteration: ', str(i+1))\n",
    "    M,localmax, localmin, maxenvelope, minenvelope = EdgePreservingSmooth(M,kernelsize)\n",
    "    Mlist.append(M)\n",
    "    \n",
    "    I_YUV = cv2.cvtColor(I,cv2.COLOR_BGR2YUV)\n",
    "    M_YUV = cv2.cvtColor(M,cv2.COLOR_BGR2YUV)\n",
    "    D = I_YUV[:,:,0]-M_YUV[:,:,0]\n",
    "    # Make the grey scale image have three channels\n",
    "    grey_3_channel = cv2.cvtColor(D, cv2.COLOR_GRAY2BGR)\n",
    "    Dlist.append(grey_3_channel)\n",
    "    \n",
    "    kernelsize += 4\n",
    "    print('')\n",
    "\n",
    "#I_YUV = cv2.cvtColor(I,cv2.COLOR_BGR2YUV)\n",
    "#M_YUV = cv2.cvtColor(normalize(M),cv2.COLOR_BGR2YUV)\n",
    "D = I_YUV[:,:,0]-M_YUV[:,:,0]\n",
    "\n",
    "# Make the grey scale image have three channels\n",
    "#grey_3_channel = cv2.cvtColor(D, cv2.COLOR_GRAY2BGR)\n",
    "numpy_horizontal = np.hstack(( I, M, Dlist[-1]))\n",
    "cv2.imshow('Edge-preserving Smooth Result', numpy_horizontal)\n",
    "cv2.waitKey()\n",
    "cv2.destroyAllWindows()"
   ]
  },
  {
   "cell_type": "code",
   "execution_count": 8,
   "metadata": {},
   "outputs": [],
   "source": [
    "# (M*255).astype(np.uint8)\n",
    "#  normalize(Mlist[0]) normalize(Mlist[1]) normalize(Mlist[2])\n",
    "Zero = np.zeros(I.shape, dtype=I.dtype)\n",
    "numpy_horizontal1 = np.hstack(( I,Mlist[0], Mlist[1],Mlist[2]))\n",
    "numpy_horizontal2 = np.hstack((Zero,Dlist[0],Dlist[1],Dlist[2]))\n",
    "result = np.vstack((numpy_horizontal1, numpy_horizontal2))\n",
    "cv2.imshow('3 Iterations', result)\n",
    "cv2.waitKey()\n",
    "cv2.destroyAllWindows()"
   ]
  },
  {
   "cell_type": "code",
   "execution_count": 9,
   "metadata": {},
   "outputs": [
    {
     "data": {
      "text/plain": [
       "True"
      ]
     },
     "execution_count": 9,
     "metadata": {},
     "output_type": "execute_result"
    }
   ],
   "source": [
    "cv2.imwrite(\"sample5_3iterations.jpg\", result)"
   ]
  },
  {
   "cell_type": "code",
   "execution_count": null,
   "metadata": {},
   "outputs": [],
   "source": []
  }
 ],
 "metadata": {
  "kernelspec": {
   "display_name": "Python 3",
   "language": "python",
   "name": "python3"
  },
  "language_info": {
   "codemirror_mode": {
    "name": "ipython",
    "version": 3
   },
   "file_extension": ".py",
   "mimetype": "text/x-python",
   "name": "python",
   "nbconvert_exporter": "python",
   "pygments_lexer": "ipython3",
   "version": "3.6.9"
  }
 },
 "nbformat": 4,
 "nbformat_minor": 2
}
